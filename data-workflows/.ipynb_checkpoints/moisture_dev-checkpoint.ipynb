{
 "cells": [
  {
   "cell_type": "code",
   "execution_count": 1,
   "metadata": {},
   "outputs": [],
   "source": [
    "import xarray as xr\n",
    "import numpy as np\n",
    "import os\n",
    "from src.configs import Configs\n",
    "from glob import glob"
   ]
  },
  {
   "cell_type": "code",
   "execution_count": 2,
   "metadata": {},
   "outputs": [],
   "source": [
    "VAR = 'W'\n",
    "GRIDSIZE = 50"
   ]
  },
  {
   "cell_type": "code",
   "execution_count": 7,
   "metadata": {},
   "outputs": [],
   "source": [
    "configs = Configs('tropical_nw_pacific')\n",
    "out_dir = configs.get_gsam_satfrac_sorted_var_dir(VAR, GRIDSIZE)\n",
    "os.makedirs(out_dir, exist_ok=True)\n",
    "surf_files = sorted(glob(configs.get_gsam_native_var_dir('2D')+'/*.nc'))\n",
    "var_files = sorted(glob(configs.get_gsam_native_var_dir('W')+'/*.nc'))\n",
    "surf_files_times = [f.split('/')[-1].split('_')[4] for f in surf_files]\n",
    "var_file_times = [f.split('/')[-1].split('_')[4] for f in var_files]"
   ]
  },
  {
   "cell_type": "code",
   "execution_count": 8,
   "metadata": {},
   "outputs": [],
   "source": [
    "def _compute_saturation_fraction(surf_fn):\n",
    "    surf = xr.open_dataset(surf_fn)\n",
    "    return(surf.PW/surf.PWS)"
   ]
  },
  {
   "cell_type": "code",
   "execution_count": 9,
   "metadata": {},
   "outputs": [],
   "source": [
    "def _sort_grid_by_saturation_fraction(var_ds, sf_ds):\n",
    "    stack_var = var_ds.stack(column=('lat', 'lon'))\n",
    "    stack_sf = sf_ds.stack(column=('lat', 'lon'))\n",
    "    sorted_var = stack_var.sortby(stack_sf)\n",
    "    column_rank = np.linspace(0, 1, sorted_var.column.size)\n",
    "    sorted_var = sorted_var.drop_vars(('lat', 'lon')).assign_coords({'column': column_rank})\n",
    "    return(sorted_var)"
   ]
  },
  {
   "cell_type": "code",
   "execution_count": 10,
   "metadata": {},
   "outputs": [],
   "source": [
    "for vi, var_file in enumerate(var_files):\n",
    "    # get surface file corresponding to 3D file time\n",
    "    file_idx = np.where(np.isin(surf_files_times, var_file_times[vi]))[0].item()\n",
    "    surf_file = surf_files[file_idx]\n",
    "    \n",
    "    # compute saturation fraction\n",
    "    satfrac = _compute_saturation_fraction(surf_file)\n",
    "\n",
    "    # make list of slices to cut into\n",
    "    lon_size, lat_size = satfrac.lon.size, satfrac.lat.size\n",
    "    assert(lon_size%GRIDSIZE==lat_size%GRIDSIZE==0)\n",
    "\n",
    "    lon_slices = [slice(i*GRIDSIZE, (i+1)*GRIDSIZE) for i in range(0, lon_size//GRIDSIZE)]\n",
    "    lat_slices = [slice(i*GRIDSIZE, (i+1)*GRIDSIZE) for i in range(0, lat_size//GRIDSIZE)]\n",
    "\n",
    "    for loni, lon_slice in enumerate(lon_slices):\n",
    "        for lati, lat_slice in enumerate(lat_slices):\n",
    "            slice_dict = {'lon': lon_slice, 'lat': lat_slice}\n",
    "            grid_satfrac = satfrac.isel(slice_dict).squeeze('time')\n",
    "            grid_var = xr.open_dataarray(var_file).squeeze('time')\n",
    "            sorted_var = _sort_grid_by_saturation_fraction(grid_var, grid_satfrac)\n",
    "            filename = f'/satfrac_sorted.lon_{loni}.lat_{lati}.{os.path.basename(var_file)}'\n",
    "            \n",
    "            sorted_var.to_netcdf(out_dir+filename)\n",
    "            break\n",
    "        break\n",
    "    break"
   ]
  }
 ],
 "metadata": {
  "kernelspec": {
   "display_name": "Python [conda env:dyamond]",
   "language": "python",
   "name": "conda-env-dyamond-py"
  },
  "language_info": {
   "codemirror_mode": {
    "name": "ipython",
    "version": 3
   },
   "file_extension": ".py",
   "mimetype": "text/x-python",
   "name": "python",
   "nbconvert_exporter": "python",
   "pygments_lexer": "ipython3",
   "version": "3.11.9"
  }
 },
 "nbformat": 4,
 "nbformat_minor": 4
}
