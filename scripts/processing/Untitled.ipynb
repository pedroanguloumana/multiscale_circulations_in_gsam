{
 "cells": [
  {
   "cell_type": "code",
   "execution_count": 4,
   "id": "655bd618-e826-4934-a3f2-e40f66d9f020",
   "metadata": {},
   "outputs": [],
   "source": [
    "import src.configs as configs\n",
    "from src.processing import MoistureSpaceGrids\n",
    "from glob import glob\n",
    "\n",
    "region = 'tropical_nw_pacific'\n",
    "variable = 'QV'\n",
    "gridsize = 50\n",
    "\n",
    "moisture_space_grids = MoistureSpaceGrids(region, gridsize, variable)"
   ]
  },
  {
   "cell_type": "code",
   "execution_count": 3,
   "id": "c0a85cc3-72e0-40db-bd6a-d61dbb5345bf",
   "metadata": {},
   "outputs": [
    {
     "data": {
      "text/plain": [
       "'/glade/work/pangulo/gsam_dyamond_winter/tropical_nw_pacific/QV'"
      ]
     },
     "execution_count": 3,
     "metadata": {},
     "output_type": "execute_result"
    }
   ],
   "source": [
    "sorted(glob(f'{configs.gSAMConfigs().get_gsam_native_var_dir(region, variable)"
   ]
  },
  {
   "cell_type": "code",
   "execution_count": null,
   "id": "93cf58a0-03ee-440f-b177-3d07b0d09a25",
   "metadata": {},
   "outputs": [],
   "source": []
  }
 ],
 "metadata": {
  "kernelspec": {
   "display_name": "Python [conda env:dyamond]",
   "language": "python",
   "name": "conda-env-dyamond-py"
  },
  "language_info": {
   "codemirror_mode": {
    "name": "ipython",
    "version": 3
   },
   "file_extension": ".py",
   "mimetype": "text/x-python",
   "name": "python",
   "nbconvert_exporter": "python",
   "pygments_lexer": "ipython3",
   "version": "3.11.9"
  }
 },
 "nbformat": 4,
 "nbformat_minor": 5
}
