{
 "cells": [
  {
   "cell_type": "markdown",
   "id": "14a2655b-f22b-4f33-af88-d1402a6d1aa9",
   "metadata": {},
   "source": [
    "# Construct Moisture Space Grids"
   ]
  },
  {
   "cell_type": "code",
   "execution_count": 30,
   "id": "42a76b55-f903-4c2f-b78e-cf87bb9a7905",
   "metadata": {},
   "outputs": [
    {
     "name": "stdout",
     "output_type": "stream",
     "text": [
      "The autoreload extension is already loaded. To reload it, use:\n",
      "  %reload_ext autoreload\n"
     ]
    }
   ],
   "source": [
    "%load_ext autoreload\n",
    "%autoreload 2\n",
    "import os\n",
    "import xarray as xr\n",
    "import numpy as np\n",
    "import numpy as np\n",
    "from src.configs import ProjectConfigs, gSAMConfigs\n",
    "from src.processing import MoistureSpaceGrids"
   ]
  },
  {
   "cell_type": "code",
   "execution_count": 87,
   "id": "396cf036-58b2-4f70-a39b-26c4317c5e1e",
   "metadata": {},
   "outputs": [],
   "source": [
    "## Parameters\n",
    "VARIABLE = '2D'\n",
    "REGION   = 'northwest_tropical_pacific'\n",
    "GRIDSIZE = 50"
   ]
  },
  {
   "cell_type": "markdown",
   "id": "6ff5a6e2-f138-4906-8710-0db836234a2a",
   "metadata": {},
   "source": [
    "We get the files and loop over them"
   ]
  },
  {
   "cell_type": "code",
   "execution_count": 88,
   "id": "72cd87f8-e2e8-46fb-9b1a-b5ba3d4bbb00",
   "metadata": {},
   "outputs": [],
   "source": [
    "grids = MoistureSpaceGrids(REGION, GRIDSIZE)"
   ]
  },
  {
   "cell_type": "code",
   "execution_count": 89,
   "id": "1c968829-272a-4863-ad8d-06a78ef95101",
   "metadata": {},
   "outputs": [
    {
     "name": "stdout",
     "output_type": "stream",
     "text": [
      "Processing File 11 of 233 :: lon 1/20 :: lat 1/10\n"
     ]
    }
   ],
   "source": [
    "variable_files = grids._get_variable_files(VARIABLE)\n",
    "surface_files = grids._get_matching_surface_files(variable_files)\n",
    "out_dir = f'{gSAMConfigs().moisture_space_var_dir(grids.region, VARIABLE, grids.gridsize)}'\n",
    "os.makedirs(out_dir, exist_ok=True)\n",
    "for vi, (var_file, surf_file) in enumerate(zip(variable_files, surface_files)):\n",
    "    if vi<10:\n",
    "        continue\n",
    "    satfrac = grids._compute_saturation_fraction(surf_file)\n",
    "    var_ds = xr.open_dataset(var_file)\n",
    "    grid_slices = grids._generate_grid_lonlat_slices(satfrac.lon.size, satfrac.lat.size)\n",
    "    for loni, lon_slice in enumerate(grid_slices['lon_slices']):\n",
    "        for lati, lat_slice in enumerate(grid_slices['lat_slices']):\n",
    "            print(f'Processing File {vi+1} of {len(variable_files)} :: lon {loni+1}/{len(grid_slices[\"lon_slices\"])} :: lat {lati+1}/{len(grid_slices[\"lat_slices\"])}')\n",
    "            filename_out = f'/{grids._filename_to_save(loni, lati, var_file)}'\n",
    "            if os.path.exists(out_dir + filename_out):\n",
    "                print('File exists! Skipping ...')\n",
    "                \n",
    "            grid_slice = {'lon': lon_slice, 'lat': lat_slice}\n",
    "            grid_var = var_ds.isel(grid_slice)\n",
    "            grid_satfrac = satfrac.isel(grid_slice)\n",
    "            sorted_var = grids._sort_grid_by_satfrac(grid_var, grid_satfrac)\n",
    "            break\n",
    "        break\n",
    "    break\n",
    "    \n",
    "            # sorted_var.to_netcdf(out_dir + filename_out)"
   ]
  },
  {
   "cell_type": "code",
   "execution_count": 92,
   "id": "def52101-53bd-4dea-a32f-7f6ab636b631",
   "metadata": {},
   "outputs": [
    {
     "data": {
      "text/plain": [
       "[<matplotlib.lines.Line2D at 0x14b014485850>]"
      ]
     },
     "execution_count": 92,
     "metadata": {},
     "output_type": "execute_result"
    },
    {
     "data": {
      "image/png": "[encoded data removed]",
      "text/plain": [
       "<Figure size 640x480 with 1 Axes>"
      ]
     },
     "metadata": {},
     "output_type": "display_data"
    }
   ],
   "source": [
    "(sorted_var.PW/sorted_var.PWS).plot()"
   ]
  },
  {
   "cell_type": "code",
   "execution_count": 62,
   "id": "5d58d7d2-599d-4f6c-b29d-cbc520e0c3bc",
   "metadata": {},
   "outputs": [
    {
     "data": {
      "text/plain": [
       "'/glade/work/pangulo/gsam_dyamond_winter/northwest_tropical_pacific/2D/northwest_tropical_pacific.DYAMOND2_9216x4608x74_10s_4608_20200201000000_0000103680.2D_atm.nc'"
      ]
     },
     "execution_count": 62,
     "metadata": {},
     "output_type": "execute_result"
    }
   ],
   "source": [
    "surf_file"
   ]
  },
  {
   "cell_type": "code",
   "execution_count": 99,
   "id": "6e109ad4-7cf2-4df5-8edd-8674c571a618",
   "metadata": {},
   "outputs": [],
   "source": [
    "path = '/glade/u/home/pangulo/work/gsam_dyamond_winter/northwest_tropical_pacific/W_moisture_space_grids_50pix/'\n",
    "fn = 'satfrac_sorted.lon_2.lat_2.northwest_tropical_pacific.DYAMOND2_9216x4608x74_10s_4608_20200201000000_0000103680_W.atm.3D.nc'"
   ]
  },
  {
   "cell_type": "code",
   "execution_count": 100,
   "id": "c09c1ca6-4e20-40e4-a2b6-b9e31a7353b8",
   "metadata": {},
   "outputs": [],
   "source": [
    "ds = xr.open_dataset(path+fn)"
   ]
  }
 ],
 "metadata": {
  "kernelspec": {
   "display_name": "Python [conda env:dyamond]",
   "language": "python",
   "name": "conda-env-dyamond-py"
  },
  "language_info": {
   "codemirror_mode": {
    "name": "ipython",
    "version": 3
   },
   "file_extension": ".py",
   "mimetype": "text/x-python",
   "name": "python",
   "nbconvert_exporter": "python",
   "pygments_lexer": "ipython3",
   "version": "3.11.9"
  }
 },
 "nbformat": 4,
 "nbformat_minor": 5
}
