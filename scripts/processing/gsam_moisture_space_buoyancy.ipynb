{
 "cells": [
  {
   "cell_type": "code",
   "execution_count": 2,
   "metadata": {},
   "outputs": [
    {
     "name": "stdout",
     "output_type": "stream",
     "text": [
      "The autoreload extension is already loaded. To reload it, use:\n",
      "  %reload_ext autoreload\n"
     ]
    }
   ],
   "source": [
    "%load_ext autoreload\n",
    "%autoreload 2\n",
    "import os\n",
    "import xarray as xr\n",
    "import numpy as np\n",
    "from metpy.calc import virtual_temperature\n",
    "from metpy.units import units\n",
    "from metpy.constants import *\n",
    "from src.buoyancy import *\n",
    "from src.plotting import *"
   ]
  },
  {
   "cell_type": "code",
   "execution_count": 16,
   "metadata": {},
   "outputs": [
    {
     "name": "stdout",
     "output_type": "stream",
     "text": [
      "Processing file 1/46600: T-file: satfrac_sorted.lon_0.lat_0.northwest_tropical_pacific.DYAMOND2_9216x4608x74_10s_4608_20200201000000_0000103680_TABS.atm.3D.nc, QV-file: satfrac_sorted.lon_0.lat_0.northwest_tropical_pacific.DYAMOND2_9216x4608x74_10s_4608_20200201000000_0000103680_QV.atm.3D.nc\n"
     ]
    }
   ],
   "source": [
    "t_files = moisture_space_file_list('TABS')\n",
    "qv_files = moisture_space_file_list('QV')\n",
    "\n",
    "total_files = len(t_files)\n",
    "\n",
    "for i, (tf, qvf) in enumerate(zip(t_files, qv_files), start=1):\n",
    "    print(f\"Processing file {i}/{total_files}: T-file: {os.path.basename(tf)}, QV-file: {os.path.basename(qvf)}\")\n",
    "    # Your processing code goes here\n",
    "\n",
    "    # Make sure files match\n",
    "    tf_index = os.path.basename(tf).rfind('_')\n",
    "    qvf_index = os.path.basename(qvf).rfind('_')\n",
    "    assert(os.path.basename(tf)[:tf_index] == os.path.basename(qvf)[:qvf_index])\n",
    "\n",
    "\n",
    "    t = xr.open_dataset(tf)\n",
    "    qv = xr.open_dataset(qvf)\n",
    "\n",
    "    t = t.TABS.metpy.convert_units('K')\n",
    "    q = (1000*qv).QV.metpy.convert_units('dimensionless')  # converted to kg/kg\n",
    "\n",
    "    tv = virtual_temperature(t, q)\n",
    "    tv_bar = tv.mean('column')\n",
    "\n",
    "    b = earth_gravity * (tv-tv_bar) / tv_bar\n",
    "\n",
    "\n",
    "\n",
    "    break"
   ]
  }
 ],
 "metadata": {
  "kernelspec": {
   "display_name": "dyamond",
   "language": "python",
   "name": "python3"
  },
  "language_info": {
   "codemirror_mode": {
    "name": "ipython",
    "version": 3
   },
   "file_extension": ".py",
   "mimetype": "text/x-python",
   "name": "python",
   "nbconvert_exporter": "python",
   "pygments_lexer": "ipython3",
   "version": "3.11.9"
  }
 },
 "nbformat": 4,
 "nbformat_minor": 4
}
