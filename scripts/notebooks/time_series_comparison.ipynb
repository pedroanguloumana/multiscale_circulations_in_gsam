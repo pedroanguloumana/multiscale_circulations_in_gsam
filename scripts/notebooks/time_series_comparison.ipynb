{
 "cells": [
  {
   "cell_type": "code",
   "execution_count": 1,
   "id": "20b6456f-37c8-48ee-8cba-2c7c62f2dec6",
   "metadata": {},
   "outputs": [],
   "source": [
    "import xarray as xr\n",
    "import matplotlib.pyplot as plt\n",
    "import pandas as pd\n",
    "import xeofs as xe\n",
    "import numpy as np\n",
    "import scipy.stats as stats\n",
    "import matplotlib.colors as colors\n",
    "from src.configs import Configs"
   ]
  },
  {
   "cell_type": "code",
   "execution_count": 2,
   "id": "e1f9f40e-9930-4f05-aa06-99fc86f6e849",
   "metadata": {},
   "outputs": [],
   "source": [
    "REGION_NAME = 'tropical_nw_pacific'\n",
    "configs = Configs(REGION_NAME)"
   ]
  },
  {
   "cell_type": "code",
   "execution_count": 3,
   "id": "d8534b96-67be-4a77-b23e-5c546d97a355",
   "metadata": {},
   "outputs": [],
   "source": [
    "gsam_surf = xr.oepn.get_gsam_coarse_var_file('2D', 50)"
   ]
  },
  {
   "cell_type": "code",
   "execution_count": null,
   "id": "caf79be7-b28a-4337-8157-6355277114fa",
   "metadata": {},
   "outputs": [],
   "source": []
  }
 ],
 "metadata": {
  "kernelspec": {
   "display_name": "Python [conda env:dyamond]",
   "language": "python",
   "name": "conda-env-dyamond-py"
  },
  "language_info": {
   "codemirror_mode": {
    "name": "ipython",
    "version": 3
   },
   "file_extension": ".py",
   "mimetype": "text/x-python",
   "name": "python",
   "nbconvert_exporter": "python",
   "pygments_lexer": "ipython3",
   "version": "3.11.9"
  }
 },
 "nbformat": 4,
 "nbformat_minor": 5
}
